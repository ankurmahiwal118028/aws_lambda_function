{
 "cells": [
  {
   "cell_type": "markdown",
   "id": "4d991d2c",
   "metadata": {},
   "source": [
    "# What is Lambda Function Handler\n",
    "\n",
    "Lambda function handler is the method that __processes events__ . When our lambda function is invoked, lambda runs the handler method.\n",
    "In short handler is the starting point where the lambda function starts.\n"
   ]
  },
  {
   "cell_type": "code",
   "execution_count": 12,
   "id": "ec95a5bd",
   "metadata": {},
   "outputs": [],
   "source": [
    "def handler_name(event, context): \n",
    "    ...\n",
    "    return some_value"
   ]
  },
  {
   "cell_type": "markdown",
   "id": "d9fdb101",
   "metadata": {},
   "source": [
    "When Lambda invokes our function handler, the Lambda runtime passes two arguments to the function handler:\n",
    "1) Event Object 2) Context Object\n",
    "\n",
    "\n",
    "The first argument is the event object. \n",
    "An event is a __JSON-formatted__ document that contains data for a Lambda function to process. \n",
    "The Lambda runtime converts the event to an object and passes it to your function code. \n",
    "It is usually of the __Python dict type__. It can also be __list, str, int, float, or the NoneType type__.\n",
    "The event object contains information from the invoking service. When you invoke a function, you determine the structure and contents of the event. When an AWS service invokes your function, the service defines the event structure. \n",
    "\n",
    "The second argument is the context object. A context object is passed to your function by Lambda at runtime. This object provides methods and properties that provide information about the __invocation, function, and runtime environment__.\n",
    "\n",
    "\n"
   ]
  },
  {
   "cell_type": "code",
   "execution_count": null,
   "id": "cc19ffe7",
   "metadata": {},
   "outputs": [],
   "source": []
  }
 ],
 "metadata": {
  "kernelspec": {
   "display_name": "Python 3 (ipykernel)",
   "language": "python",
   "name": "python3"
  },
  "language_info": {
   "codemirror_mode": {
    "name": "ipython",
    "version": 3
   },
   "file_extension": ".py",
   "mimetype": "text/x-python",
   "name": "python",
   "nbconvert_exporter": "python",
   "pygments_lexer": "ipython3",
   "version": "3.8.2"
  }
 },
 "nbformat": 4,
 "nbformat_minor": 5
}
